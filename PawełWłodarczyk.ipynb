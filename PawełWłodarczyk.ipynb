{
  "nbformat": 4,
  "nbformat_minor": 0,
  "metadata": {
    "colab": {
      "name": "PawełWłodarczyk.ipynb",
      "provenance": [],
      "authorship_tag": "ABX9TyMUYfX23B9b19ao2JO5cAiQ",
      "include_colab_link": true
    },
    "kernelspec": {
      "name": "python3",
      "display_name": "Python 3"
    }
  },
  "cells": [
    {
      "cell_type": "markdown",
      "metadata": {
        "id": "view-in-github",
        "colab_type": "text"
      },
      "source": [
        "<a href=\"https://colab.research.google.com/github/empios/175IC-machine-learning/blob/main/Pawe%C5%82W%C5%82odarczyk.ipynb\" target=\"_parent\"><img src=\"https://colab.research.google.com/assets/colab-badge.svg\" alt=\"Open In Colab\"/></a>"
      ]
    },
    {
      "cell_type": "code",
      "metadata": {
        "id": "EEu2UWvU0rVK",
        "outputId": "3597513e-3815-4662-8485-21aae398e3d7",
        "colab": {
          "base_uri": "https://localhost:8080/"
        }
      },
      "source": [
        "print('Paweł Włodarczyk')"
      ],
      "execution_count": 1,
      "outputs": [
        {
          "output_type": "stream",
          "text": [
            "Paweł Włodarczyk\n"
          ],
          "name": "stdout"
        }
      ]
    }
  ]
}
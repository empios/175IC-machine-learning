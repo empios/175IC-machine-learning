{
  "nbformat": 4,
  "nbformat_minor": 0,
  "metadata": {
    "colab": {
      "name": "Zadanie2.ipynb",
      "provenance": [],
      "authorship_tag": "ABX9TyO/iosYXuXi5PeqiM4uLo3J",
      "include_colab_link": true
    },
    "kernelspec": {
      "name": "python3",
      "display_name": "Python 3"
    }
  },
  "cells": [
    {
      "cell_type": "markdown",
      "metadata": {
        "id": "view-in-github",
        "colab_type": "text"
      },
      "source": [
        "<a href=\"https://colab.research.google.com/github/empios/175IC-machine-learning/blob/main/Zadanie2.ipynb\" target=\"_parent\"><img src=\"https://colab.research.google.com/assets/colab-badge.svg\" alt=\"Open In Colab\"/></a>"
      ]
    },
    {
      "cell_type": "code",
      "metadata": {
        "id": "ftRoXQv8SM6n"
      },
      "source": [
        "import pandas as pd\n",
        "import numpy as np\n",
        "\n",
        "\n",
        "\n",
        "dane={\"size\":['L','M','S','M','M','L','M','S','L','XL'],\n",
        "      \"color\":['green','red','orange','red', 'red','black','black','orange','black','green'],\n",
        "      \"gender\":['female','female','male','male','male','female','male','male','female','male'],\n",
        "      \"price\":[149.0,79.0,82.0,170.0,100.0,145.5,200.5,30.5,140.0,76.3],\n",
        "      \"weight\":[380,410,210,245,567,534,234,222,565,111],\n",
        "      \"bought\":['no','yes','yes','yes','no','yes','yes','yes','no','yes']\n",
        "}\n",
        "\n"
      ],
      "execution_count": null,
      "outputs": []
    }
  ]
}
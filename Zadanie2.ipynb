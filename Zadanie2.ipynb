{
  "nbformat": 4,
  "nbformat_minor": 0,
  "metadata": {
    "colab": {
      "name": "Zadanie2.ipynb",
      "provenance": [],
      "collapsed_sections": [],
      "authorship_tag": "ABX9TyN8SaqAoT91qJ/BMT8120qm",
      "include_colab_link": true
    },
    "kernelspec": {
      "name": "python3",
      "display_name": "Python 3"
    }
  },
  "cells": [
    {
      "cell_type": "markdown",
      "metadata": {
        "id": "view-in-github",
        "colab_type": "text"
      },
      "source": [
        "<a href=\"https://colab.research.google.com/github/empios/175IC-machine-learning/blob/main/Zadanie2.ipynb\" target=\"_parent\"><img src=\"https://colab.research.google.com/assets/colab-badge.svg\" alt=\"Open In Colab\"/></a>"
      ]
    },
    {
      "cell_type": "code",
      "metadata": {
        "id": "ftRoXQv8SM6n",
        "outputId": "48268201-72ce-4282-8e67-1b50f7eb1d13",
        "colab": {
          "base_uri": "https://localhost:8080/"
        }
      },
      "source": [
        "import pandas as pd\n",
        "import numpy as np\n",
        "\n",
        "\n",
        "\n",
        "dane={\"size\":['L','M','S','M',np.nan,'L','M',np.nan,np.nan,'XL'],\n",
        "      \"color\":['green','red',np.nan,'red', 'red','black',np.nan,'orange','black','green'],\n",
        "      \"gender\":['female','female','male','male','male',np.nan,'male','male',np.nan,'male'],\n",
        "      \"price\":[149.0,79.0,82.0,np.nan,100.0,np.nan,200.5,30.5,140.0,76.3],\n",
        "      \"weight\":[380,410,210,245,567,534,234,222,np.nan,111],\n",
        "      \"bought\":['no','yes','yes',np.nan,'no',np.nan,'yes','yes','no','yes']\n",
        "}\n",
        "\n",
        "\n",
        "##ZADANIE 1\n",
        "df_raw=pd.DataFrame(data=dane)\n",
        "for (index, row) in df_raw.iterrows():\n",
        "  if(row.isnull().sum() >= 3):\n",
        "    df_raw = df_raw.drop(index=index)\n",
        "\n",
        "##ZADANIE 2\n",
        "df_raw2=pd.DataFrame(data=dane)\n",
        "df_raw2['price'].fillna(df_raw2['price'].mean(), inplace=True)\n",
        "\n",
        "##ZADANIE 3 i 4\n",
        "df_raw3 = pd.DataFrame(data=dane)\n",
        "df_raw3['weight'].interpolate(inplace=True)\n",
        "df_raw3['gender'].fillna('male', inplace=True)\n",
        "df_raw3['size'].fillna('unisex', inplace=True)\n",
        "df_raw3['color'].fillna('black', inplace=True)\n",
        "\n",
        "##ZADANIE 5 i 6 oraz 7\n",
        "\n",
        "df_raw3['cost'] = pd.cut(df_raw3['price'], bins=3, labels=[\"cheap\", \"normal\", \"expensive\"])\n",
        "df_raw3['bought'].replace(to_replace=\"yes\", value=bin(1), inplace=True)\n",
        "df_raw3['bought'].replace(to_replace=\"no\", value=bin(0), inplace=True)\n",
        "\n",
        "train_set = df_raw3.sample(frac=0.75, random_state=0)\n",
        "test_set = df_raw3.drop(train_set.index)\n",
        "\n",
        "\n",
        "\n",
        "\n"
      ],
      "execution_count": 35,
      "outputs": [
        {
          "output_type": "stream",
          "text": [
            "     size   color  gender  price  weight bought       cost\n",
            "2       S   black    male   82.0   210.0    0b1      cheap\n",
            "8  unisex   black    male  140.0   166.5    0b0     normal\n",
            "4  unisex     red    male  100.0   567.0    0b0     normal\n",
            "9      XL   green    male   76.3   111.0    0b1      cheap\n",
            "1       M     red  female   79.0   410.0    0b1      cheap\n",
            "6       M   black    male  200.5   234.0    0b1  expensive\n",
            "7  unisex  orange    male   30.5   222.0    0b1      cheap\n",
            "3       M     red    male    NaN   245.0    NaN        NaN\n",
            "  size  color  gender  price  weight bought       cost\n",
            "0    L  green  female  149.0   380.0    0b0  expensive\n",
            "5    L  black    male    NaN   534.0    NaN        NaN\n"
          ],
          "name": "stdout"
        }
      ]
    }
  ]
}
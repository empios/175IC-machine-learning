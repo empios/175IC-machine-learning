{
  "nbformat": 4,
  "nbformat_minor": 0,
  "metadata": {
    "colab": {
      "name": "Zad1.ipynb",
      "provenance": [],
      "collapsed_sections": [],
      "authorship_tag": "ABX9TyOv90Y+UADEYv0qnV05tC/T",
      "include_colab_link": true
    },
    "kernelspec": {
      "name": "python3",
      "display_name": "Python 3"
    }
  },
  "cells": [
    {
      "cell_type": "markdown",
      "metadata": {
        "id": "view-in-github",
        "colab_type": "text"
      },
      "source": [
        "<a href=\"https://colab.research.google.com/github/empios/175IC-machine-learning/blob/main/Zad1.ipynb\" target=\"_parent\"><img src=\"https://colab.research.google.com/assets/colab-badge.svg\" alt=\"Open In Colab\"/></a>"
      ]
    },
    {
      "cell_type": "code",
      "metadata": {
        "id": "GQ5AJ_jN1yZe"
      },
      "source": [
        "\n",
        "from sklearn import preprocessing\n",
        "import pandas as pd\n",
        "import numpy as np\n",
        "\n",
        "\n",
        "\n",
        "dane={\"size\":['L','M','S','M','M','L','M','S','L','XL'],\n",
        "      \"color\":['green','red','orange','red', 'red','black','black','orange','black','green'],\n",
        "      \"gender\":['female','female','male','male','male','female','male','male','female','male'],\n",
        "      \"price\":[149.0,79.0,82.0,170.0,100.0,145.5,200.5,30.5,140.0,76.3],\n",
        "      \"weight\":[380,410,210,245,567,534,234,222,565,111],\n",
        "      \"bought\":['no','yes','yes','yes','no','yes','yes','yes','no','yes']\n",
        "}\n",
        "df_raw=pd.DataFrame(data=dane)\n",
        "df = df_raw.copy()\n",
        "\n",
        "for col in ['size', 'color', 'gender','bought']:\n",
        "  df[col] = df[col].astype('category')\n",
        "\n",
        "df.describe(include=['category']).T\n",
        "\n",
        "le = preprocessing.LabelEncoder()\n",
        "le.fit_transform(df['bought'])\n",
        "pd.get_dummies(data=df, drop_first=True)\n",
        "scaler=preprocessing.StandardScaler()\n",
        "df[['price','weight']]=scaler.fit_transform(df[['price','weight']])"
      ],
      "execution_count": 28,
      "outputs": []
    }
  ]
}